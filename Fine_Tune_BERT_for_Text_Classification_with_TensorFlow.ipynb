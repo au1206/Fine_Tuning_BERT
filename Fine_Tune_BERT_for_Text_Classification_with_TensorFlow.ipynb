{
  "nbformat": 4,
  "nbformat_minor": 0,
  "metadata": {
    "colab": {
      "name": "Fine-Tune-BERT-for-Text-Classification-with-TensorFlow.ipynb",
      "provenance": [],
      "collapsed_sections": [],
      "machine_shape": "hm",
      "include_colab_link": true
    },
    "kernelspec": {
      "name": "python3",
      "display_name": "Python 3"
    },
    "accelerator": "GPU"
  },
  "cells": [
    {
      "cell_type": "markdown",
      "metadata": {
        "id": "view-in-github",
        "colab_type": "text"
      },
      "source": [
        "<a href=\"https://colab.research.google.com/github/au1206/Fine_Tuning_BERT/blob/main/Fine_Tune_BERT_for_Text_Classification_with_TensorFlow.ipynb\" target=\"_parent\"><img src=\"https://colab.research.google.com/assets/colab-badge.svg\" alt=\"Open In Colab\"/></a>"
      ]
    },
    {
      "cell_type": "markdown",
      "metadata": {
        "id": "zGCJYkQj_Uu2"
      },
      "source": [
        "<h1> Fine-Tune BERT for Text Classification with TensorFlow</h1>"
      ]
    },
    {
      "cell_type": "markdown",
      "metadata": {
        "id": "4y2m1S6e12il"
      },
      "source": [
        "<div align=\"center\">\n",
        "    <img width=\"512px\" src='https://drive.google.com/uc?id=1mBqrfxng42SgSXvK62V1C67Or_vgrsVm' />\n",
        "    <p style=\"text-align: center;color:gray\">Figure 1: BERT Classification Model</p>\n",
        "</div>"
      ]
    },
    {
      "cell_type": "markdown",
      "metadata": {
        "id": "0GV3iMY9k4uV"
      },
      "source": [
        "We will be using Google Colab for this tutorial as we would require a GPU to fine-tune BERT.\n",
        "\n",
        "## Prerequisites:\n",
        "- Willingness to learn: Growth Mindset is all you need \n",
        "- Some basic idea about Tensorflow/Keras and BERT\n",
        "- Some Python to follow along with the code"
      ]
    },
    {
      "cell_type": "markdown",
      "metadata": {
        "id": "zhV7YowzK-I9"
      },
      "source": [
        "## Initial Set Up"
      ]
    },
    {
      "cell_type": "markdown",
      "metadata": {
        "id": "Obch3rAuBVf0"
      },
      "source": [
        "### Install TensorFlow and TensorFlow Model Garden"
      ]
    },
    {
      "cell_type": "code",
      "metadata": {
        "id": "bUQEY3dFB0jX",
        "colab": {
          "base_uri": "https://localhost:8080/"
        },
        "outputId": "a344c47e-cdd8-4faf-9917-90ba403d791a"
      },
      "source": [
        "import tensorflow as tf\n",
        "print(tf.version.VERSION)"
      ],
      "execution_count": 2,
      "outputs": [
        {
          "output_type": "stream",
          "text": [
            "2.5.0\n"
          ],
          "name": "stdout"
        }
      ]
    },
    {
      "cell_type": "markdown",
      "metadata": {
        "id": "RAjJnOAL4wrn"
      },
      "source": [
        "Cloning the Github Repo for tensorflow models \n",
        "-  –depth 1, during cloning, Git will only get the latest copy of the relevant files. It can save you a lot of space and time.\n",
        "\n",
        "- -b lets us clone a specific branch only.\n",
        "\n",
        "**Please match it with your tensorflow 2.x version.**"
      ]
    },
    {
      "cell_type": "code",
      "metadata": {
        "id": "AFRTC-zwUy6D",
        "colab": {
          "base_uri": "https://localhost:8080/"
        },
        "outputId": "087e276d-b0d9-4fb3-8de3-a285380d370f"
      },
      "source": [
        "!git clone --depth 1 -b v2.5.0 https://github.com/tensorflow/models.git"
      ],
      "execution_count": 3,
      "outputs": [
        {
          "output_type": "stream",
          "text": [
            "Cloning into 'models'...\n",
            "remote: Enumerating objects: 958, done.\u001b[K\n",
            "remote: Counting objects: 100% (958/958), done.\u001b[K\n",
            "remote: Compressing objects: 100% (784/784), done.\u001b[K\n",
            "remote: Total 958 (delta 247), reused 339 (delta 161), pack-reused 0\u001b[K\n",
            "Receiving objects: 100% (958/958), 1.49 MiB | 9.07 MiB/s, done.\n",
            "Resolving deltas: 100% (247/247), done.\n",
            "Note: checking out '4f0e20f26d79610b7dbcf4c103dbd53c456a8348'.\n",
            "\n",
            "You are in 'detached HEAD' state. You can look around, make experimental\n",
            "changes and commit them, and you can discard any commits you make in this\n",
            "state without impacting any branches by performing another checkout.\n",
            "\n",
            "If you want to create a new branch to retain commits you create, you may\n",
            "do so (now or later) by using -b with the checkout command again. Example:\n",
            "\n",
            "  git checkout -b <new-branch-name>\n",
            "\n"
          ],
          "name": "stdout"
        }
      ]
    },
    {
      "cell_type": "code",
      "metadata": {
        "id": "3H2G0571zLLs",
        "colab": {
          "base_uri": "https://localhost:8080/"
        },
        "outputId": "ba20fb67-5a44-4c48-bbc5-783b321c61f6"
      },
      "source": [
        "# install requirements to use tensorflow/models repository\n",
        "!pip install -Uqr models/official/requirements.txt\n",
        "# you may have to restart the runtime afterwards also ignore any ERRORS popping up at this step"
      ],
      "execution_count": 4,
      "outputs": [
        {
          "output_type": "stream",
          "text": [
            "\u001b[K     |████████████████████████████████| 7.3MB 5.0MB/s \n",
            "\u001b[K     |████████████████████████████████| 194kB 37.3MB/s \n",
            "\u001b[K     |████████████████████████████████| 15.3MB 208kB/s \n",
            "\u001b[K     |████████████████████████████████| 9.9MB 32.0MB/s \n",
            "\u001b[K     |████████████████████████████████| 296kB 46.6MB/s \n",
            "\u001b[K     |████████████████████████████████| 102kB 9.9MB/s \n",
            "\u001b[K     |████████████████████████████████| 27.4MB 141kB/s \n",
            "\u001b[K     |████████████████████████████████| 174kB 50.2MB/s \n",
            "\u001b[K     |████████████████████████████████| 3.9MB 29.9MB/s \n",
            "\u001b[K     |████████████████████████████████| 686kB 40.1MB/s \n",
            "\u001b[K     |████████████████████████████████| 358kB 50.6MB/s \n",
            "\u001b[K     |████████████████████████████████| 10.3MB 26.8MB/s \n",
            "\u001b[K     |████████████████████████████████| 645kB 39.1MB/s \n",
            "\u001b[K     |████████████████████████████████| 38.2MB 81kB/s \n",
            "\u001b[K     |████████████████████████████████| 3.0MB 25.0MB/s \n",
            "\u001b[K     |████████████████████████████████| 51kB 6.1MB/s \n",
            "\u001b[K     |████████████████████████████████| 1.2MB 42.4MB/s \n",
            "\u001b[K     |████████████████████████████████| 61kB 7.5MB/s \n",
            "\u001b[K     |████████████████████████████████| 81kB 8.7MB/s \n",
            "\u001b[K     |████████████████████████████████| 51kB 5.8MB/s \n",
            "\u001b[?25h  Building wheel for py-cpuinfo (setup.py) ... \u001b[?25l\u001b[?25hdone\n",
            "  Building wheel for seqeval (setup.py) ... \u001b[?25l\u001b[?25hdone\n",
            "\u001b[31mERROR: tensorflow 2.5.0 has requirement numpy~=1.19.2, but you'll have numpy 1.20.3 which is incompatible.\u001b[0m\n",
            "\u001b[31mERROR: tensorflow 2.5.0 has requirement six~=1.15.0, but you'll have six 1.16.0 which is incompatible.\u001b[0m\n",
            "\u001b[31mERROR: pandas-gbq 0.13.3 has requirement google-cloud-bigquery[bqstorage,pandas]<2.0.0dev,>=1.11.1, but you'll have google-cloud-bigquery 2.19.0 which is incompatible.\u001b[0m\n",
            "\u001b[31mERROR: google-colab 1.0.0 has requirement pandas~=1.1.0; python_version >= \"3.0\", but you'll have pandas 1.2.4 which is incompatible.\u001b[0m\n",
            "\u001b[31mERROR: google-colab 1.0.0 has requirement six~=1.15.0, but you'll have six 1.16.0 which is incompatible.\u001b[0m\n",
            "\u001b[31mERROR: google-cloud-storage 1.18.1 has requirement google-resumable-media<0.5.0dev,>=0.3.1, but you'll have google-resumable-media 1.3.0 which is incompatible.\u001b[0m\n",
            "\u001b[31mERROR: google-cloud-bigquery 2.19.0 has requirement google-api-core[grpc]<2.0.0dev,>=1.29.0, but you'll have google-api-core 1.26.3 which is incompatible.\u001b[0m\n",
            "\u001b[31mERROR: earthengine-api 0.1.266 has requirement google-api-python-client<2,>=1.12.1, but you'll have google-api-python-client 2.7.0 which is incompatible.\u001b[0m\n",
            "\u001b[31mERROR: datascience 0.10.6 has requirement folium==0.2.1, but you'll have folium 0.8.3 which is incompatible.\u001b[0m\n",
            "\u001b[31mERROR: albumentations 0.1.12 has requirement imgaug<0.2.7,>=0.2.5, but you'll have imgaug 0.2.9 which is incompatible.\u001b[0m\n"
          ],
          "name": "stdout"
        }
      ]
    },
    {
      "cell_type": "markdown",
      "metadata": {
        "id": "-WlOhTvS54cu"
      },
      "source": [
        "**Note**: After installing the required Python packages, you'll need to restart the Colab Runtime Engine (Menu ---> Runtime ---> Restart runtime...)"
      ]
    },
    {
      "cell_type": "markdown",
      "metadata": {
        "id": "15Tl8wqi_reD"
      },
      "source": [
        "**NOTE: ANYTHING BEFORE THIS CELL SHOULD ONLY BE RUN ONCE, ONLY DURING THE INITIAL SETUP**"
      ]
    },
    {
      "cell_type": "markdown",
      "metadata": {
        "id": "KOn8Qr4x_TCc"
      },
      "source": [
        "## Some Initial Imports and Checks"
      ]
    },
    {
      "cell_type": "code",
      "metadata": {
        "id": "GmqEylyFYTdP"
      },
      "source": [
        "import numpy as np\n",
        "import tensorflow as tf\n",
        "import tensorflow_hub as hub\n",
        "import sys\n",
        "sys.path.append('models')\n",
        "from official.nlp.data import classifier_data_lib\n",
        "from official.nlp.bert import tokenization\n",
        "from official.nlp import optimization\n",
        "import matplotlib.pyplot as plt\n",
        "%matplotlib inline"
      ],
      "execution_count": 1,
      "outputs": []
    },
    {
      "cell_type": "code",
      "metadata": {
        "id": "ZuX1lB8pPJ-W",
        "colab": {
          "base_uri": "https://localhost:8080/"
        },
        "outputId": "dd33c7b4-7ed2-4a09-d780-9cf5a9efb48f"
      },
      "source": [
        "print(\"TF Version: \", tf.__version__)\n",
        "print(\"Eager mode: \", tf.executing_eagerly())\n",
        "print(\"Hub version: \", hub.__version__)\n",
        "print(\"GPU is\", \"available\" if tf.config.experimental.list_physical_devices(\"GPU\") else \"NOT AVAILABLE\")"
      ],
      "execution_count": 2,
      "outputs": [
        {
          "output_type": "stream",
          "text": [
            "TF Version:  2.5.0\n",
            "Eager mode:  True\n",
            "Hub version:  0.12.0\n",
            "GPU is NOT AVAILABLE\n"
          ],
          "name": "stdout"
        }
      ]
    },
    {
      "cell_type": "markdown",
      "metadata": {
        "id": "IMsEoT3Fg4Wg"
      },
      "source": [
        "##Lets Get the Dataset"
      ]
    },
    {
      "cell_type": "markdown",
      "metadata": {
        "id": "QtbwpWgyEZg7"
      },
      "source": [
        "- The data we will use is the dataset provided on the [Quora Insincere Questions Classification competition on Kaggle](https://www.kaggle.com/c/quora-insincere-questions-classification/data). \n",
        "\n",
        "- Please feel free to download the train set from kaggle or use the link below to download the train.csv from that competition [https://archive.org/download/quora_dataset_train.csv/quora_dataset_train.csv.zip](https://archive.org/download/quora_dataset_train.csv/quora_dataset_train.csv.zip). \n",
        "\n",
        "- Let us decompress and read the data into a pandas DataFrame."
      ]
    },
    {
      "cell_type": "code",
      "metadata": {
        "id": "0nI-9itVwCCQ",
        "colab": {
          "base_uri": "https://localhost:8080/"
        },
        "outputId": "d4e47c82-88b6-47d6-b184-ddbd785420d0"
      },
      "source": [
        "import numpy as np\n",
        "import pandas as pd\n",
        "from sklearn.model_selection import train_test_split\n",
        "\n",
        "df = pd.read_csv('https://archive.org/download/quora_dataset_train.csv/quora_dataset_train.csv.zip', \n",
        "                 compression='zip',\n",
        "                 low_memory=False)\n",
        "print(df.shape)"
      ],
      "execution_count": 3,
      "outputs": [
        {
          "output_type": "stream",
          "text": [
            "(1306122, 3)\n"
          ],
          "name": "stdout"
        }
      ]
    },
    {
      "cell_type": "code",
      "metadata": {
        "id": "yeHE98KiMvDd",
        "colab": {
          "base_uri": "https://localhost:8080/",
          "height": 359
        },
        "outputId": "1a1abe10-ff3d-470f-b89d-44b42a09e1f6"
      },
      "source": [
        "df.head(10)\n",
        "# label 0 == non toxic\n",
        "# label 1 == toxic "
      ],
      "execution_count": 4,
      "outputs": [
        {
          "output_type": "execute_result",
          "data": {
            "text/html": [
              "<div>\n",
              "<style scoped>\n",
              "    .dataframe tbody tr th:only-of-type {\n",
              "        vertical-align: middle;\n",
              "    }\n",
              "\n",
              "    .dataframe tbody tr th {\n",
              "        vertical-align: top;\n",
              "    }\n",
              "\n",
              "    .dataframe thead th {\n",
              "        text-align: right;\n",
              "    }\n",
              "</style>\n",
              "<table border=\"1\" class=\"dataframe\">\n",
              "  <thead>\n",
              "    <tr style=\"text-align: right;\">\n",
              "      <th></th>\n",
              "      <th>qid</th>\n",
              "      <th>question_text</th>\n",
              "      <th>target</th>\n",
              "    </tr>\n",
              "  </thead>\n",
              "  <tbody>\n",
              "    <tr>\n",
              "      <th>0</th>\n",
              "      <td>00002165364db923c7e6</td>\n",
              "      <td>How did Quebec nationalists see their province...</td>\n",
              "      <td>0</td>\n",
              "    </tr>\n",
              "    <tr>\n",
              "      <th>1</th>\n",
              "      <td>000032939017120e6e44</td>\n",
              "      <td>Do you have an adopted dog, how would you enco...</td>\n",
              "      <td>0</td>\n",
              "    </tr>\n",
              "    <tr>\n",
              "      <th>2</th>\n",
              "      <td>0000412ca6e4628ce2cf</td>\n",
              "      <td>Why does velocity affect time? Does velocity a...</td>\n",
              "      <td>0</td>\n",
              "    </tr>\n",
              "    <tr>\n",
              "      <th>3</th>\n",
              "      <td>000042bf85aa498cd78e</td>\n",
              "      <td>How did Otto von Guericke used the Magdeburg h...</td>\n",
              "      <td>0</td>\n",
              "    </tr>\n",
              "    <tr>\n",
              "      <th>4</th>\n",
              "      <td>0000455dfa3e01eae3af</td>\n",
              "      <td>Can I convert montra helicon D to a mountain b...</td>\n",
              "      <td>0</td>\n",
              "    </tr>\n",
              "    <tr>\n",
              "      <th>5</th>\n",
              "      <td>00004f9a462a357c33be</td>\n",
              "      <td>Is Gaza slowly becoming Auschwitz, Dachau or T...</td>\n",
              "      <td>0</td>\n",
              "    </tr>\n",
              "    <tr>\n",
              "      <th>6</th>\n",
              "      <td>00005059a06ee19e11ad</td>\n",
              "      <td>Why does Quora automatically ban conservative ...</td>\n",
              "      <td>0</td>\n",
              "    </tr>\n",
              "    <tr>\n",
              "      <th>7</th>\n",
              "      <td>0000559f875832745e2e</td>\n",
              "      <td>Is it crazy if I wash or wipe my groceries off...</td>\n",
              "      <td>0</td>\n",
              "    </tr>\n",
              "    <tr>\n",
              "      <th>8</th>\n",
              "      <td>00005bd3426b2d0c8305</td>\n",
              "      <td>Is there such a thing as dressing moderately, ...</td>\n",
              "      <td>0</td>\n",
              "    </tr>\n",
              "    <tr>\n",
              "      <th>9</th>\n",
              "      <td>00006e6928c5df60eacb</td>\n",
              "      <td>Is it just me or have you ever been in this ph...</td>\n",
              "      <td>0</td>\n",
              "    </tr>\n",
              "  </tbody>\n",
              "</table>\n",
              "</div>"
            ],
            "text/plain": [
              "                    qid  ... target\n",
              "0  00002165364db923c7e6  ...      0\n",
              "1  000032939017120e6e44  ...      0\n",
              "2  0000412ca6e4628ce2cf  ...      0\n",
              "3  000042bf85aa498cd78e  ...      0\n",
              "4  0000455dfa3e01eae3af  ...      0\n",
              "5  00004f9a462a357c33be  ...      0\n",
              "6  00005059a06ee19e11ad  ...      0\n",
              "7  0000559f875832745e2e  ...      0\n",
              "8  00005bd3426b2d0c8305  ...      0\n",
              "9  00006e6928c5df60eacb  ...      0\n",
              "\n",
              "[10 rows x 3 columns]"
            ]
          },
          "metadata": {
            "tags": []
          },
          "execution_count": 4
        }
      ]
    },
    {
      "cell_type": "markdown",
      "metadata": {
        "id": "yWpRHkVgEtDx"
      },
      "source": [
        "### Get to Know your data: Some Basic EDA"
      ]
    },
    {
      "cell_type": "code",
      "metadata": {
        "id": "leRFRWJMocVa",
        "colab": {
          "base_uri": "https://localhost:8080/",
          "height": 346
        },
        "outputId": "5719f078-01f2-464f-f1d5-461fe0e8c847"
      },
      "source": [
        "print(df['target'].value_counts())\n",
        "df['target'].value_counts().plot.bar()\n",
        "plt.yscale('log');\n",
        "plt.title('Distribution of Labels')"
      ],
      "execution_count": 5,
      "outputs": [
        {
          "output_type": "stream",
          "text": [
            "0    1225312\n",
            "1      80810\n",
            "Name: target, dtype: int64\n"
          ],
          "name": "stdout"
        },
        {
          "output_type": "execute_result",
          "data": {
            "text/plain": [
              "Text(0.5, 1.0, 'Distribution of Labels')"
            ]
          },
          "metadata": {
            "tags": []
          },
          "execution_count": 5
        },
        {
          "output_type": "display_data",
          "data": {
            "image/png": "[encoded data removed]",
            "text/plain": [
              "<Figure size 432x288 with 1 Axes>"
            ]
          },
          "metadata": {
            "tags": [],
            "needs_background": "light"
          }
        }
      ]
    },
    {
      "cell_type": "code",
      "metadata": {
        "colab": {
          "base_uri": "https://localhost:8080/"
        },
        "id": "KNYi2D4kBLeR",
        "outputId": "55444854-d00c-49dc-ce8a-4319ee47bd1f"
      },
      "source": [
        "print('Average word length of questions in dataset is {0:.0f}.'.format(np.mean(df['question_text'].apply(lambda x: len(x.split())))))\n",
        "print('Max word length of questions in dataset is {0:.0f}.'.format(np.max(df['question_text'].apply(lambda x: len(x.split())))))\n",
        "print('Average character length of questions in dataset is {0:.0f}.'.format(np.mean(df['question_text'].apply(lambda x: len(x)))))"
      ],
      "execution_count": 6,
      "outputs": [
        {
          "output_type": "stream",
          "text": [
            "Average word length of questions in dataset is 13.\n",
            "Max word length of questions in dataset is 134.\n",
            "Average character length of questions in dataset is 71.\n"
          ],
          "name": "stdout"
        }
      ]
    },
    {
      "cell_type": "code",
      "metadata": {
        "id": "fScULIGPwuWk",
        "colab": {
          "base_uri": "https://localhost:8080/"
        },
        "outputId": "8ca9269e-0abb-4b77-b916-17cbba84c73e"
      },
      "source": [
        "# Since the dataset is very imbalanced we will keep the same distribution in both train and test set by stratifying it based on the labels\n",
        "# using small portions of the data as the over all dataset would take ages to train, feel free to include more data by changing train_size \n",
        "train_df, remaining = train_test_split(df, random_state=42, train_size=0.05, stratify=df.target.values)\n",
        "valid_df, _ = train_test_split(remaining, random_state=42, train_size=0.005, stratify=remaining.target.values)\n",
        "print(train_df.shape)\n",
        "print(valid_df.shape)"
      ],
      "execution_count": 7,
      "outputs": [
        {
          "output_type": "stream",
          "text": [
            "(65306, 3)\n",
            "(6204, 3)\n"
          ],
          "name": "stdout"
        }
      ]
    },
    {
      "cell_type": "code",
      "metadata": {
        "colab": {
          "base_uri": "https://localhost:8080/"
        },
        "id": "P-MRpoomCHb8",
        "outputId": "fedca82c-05af-4477-9aa5-b04f975a3294"
      },
      "source": [
        "print(\"FOR TRAIN SET\\n\")\n",
        "print('Average word length of questions in train set is {0:.0f}.'.format(np.mean(train_df['question_text'].apply(lambda x: len(x.split())))))\n",
        "print('Max word length of questions in train set is {0:.0f}.'.format(np.max(train_df['question_text'].apply(lambda x: len(x.split())))))\n",
        "print('Average character length of questions in train set is {0:.0f}.'.format(np.mean(train_df['question_text'].apply(lambda x: len(x)))))\n",
        "print('Label Distribution in train set is \\n{}.'.format(train_df['target'].value_counts()))\n",
        "print(\"\\n\\nFOR VALIDATION SET\\n\")\n",
        "print('Average word length of questions in valid set is {0:.0f}.'.format(np.mean(valid_df['question_text'].apply(lambda x: len(x.split())))))\n",
        "print('Max word length of questions in valid set is {0:.0f}.'.format(np.max(valid_df['question_text'].apply(lambda x: len(x.split())))))\n",
        "print('Average character length of questions in valid set is {0:.0f}.'.format(np.mean(valid_df['question_text'].apply(lambda x: len(x)))))\n",
        "print('Label Distribution in validation set is \\n{}.'.format(valid_df['target'].value_counts()))"
      ],
      "execution_count": 8,
      "outputs": [
        {
          "output_type": "stream",
          "text": [
            "FOR TRAIN SET\n",
            "\n",
            "Average word length of questions in train set is 13.\n",
            "Max word length of questions in train set is 56.\n",
            "Average character length of questions in train set is 71.\n",
            "Label Distribution in train set is \n",
            "0    61266\n",
            "1     4040\n",
            "Name: target, dtype: int64.\n",
            "\n",
            "\n",
            "FOR VALIDATION SET\n",
            "\n",
            "Average word length of questions in valid set is 13.\n",
            "Max word length of questions in valid set is 56.\n",
            "Average character length of questions in valid set is 71.\n",
            "Label Distribution in validation set is \n",
            "0    5820\n",
            "1     384\n",
            "Name: target, dtype: int64.\n"
          ],
          "name": "stdout"
        }
      ]
    },
    {
      "cell_type": "markdown",
      "metadata": {
        "id": "GS7wwDvmDwH_"
      },
      "source": [
        "So Looks like the train and validation set a re similar in terms of class imbalance and the various lengths in the question texts"
      ]
    },
    {
      "cell_type": "code",
      "metadata": {
        "colab": {
          "base_uri": "https://localhost:8080/",
          "height": 298
        },
        "id": "tE0eCG8pFYnZ",
        "outputId": "1e2901a1-6ade-4717-84d2-115b20aa4381"
      },
      "source": [
        "# TRAIN SET \n",
        "train_df['question_text'].apply(lambda x: len(x.split())).plot(kind='hist');\n",
        "plt.yscale('log');\n",
        "plt.title('Distribution of question text length in words')"
      ],
      "execution_count": 9,
      "outputs": [
        {
          "output_type": "execute_result",
          "data": {
            "text/plain": [
              "Text(0.5, 1.0, 'Distribution of question text length in words')"
            ]
          },
          "metadata": {
            "tags": []
          },
          "execution_count": 9
        },
        {
          "output_type": "display_data",
          "data": {
            "image/png": "[encoded data removed]",
            "text/plain": [
              "<Figure size 432x288 with 1 Axes>"
            ]
          },
          "metadata": {
            "tags": [],
            "needs_background": "light"
          }
        }
      ]
    },
    {
      "cell_type": "code",
      "metadata": {
        "colab": {
          "base_uri": "https://localhost:8080/",
          "height": 298
        },
        "id": "ucLYQp-dFc0e",
        "outputId": "f0dfaa25-69cc-47d4-fe0a-a3ceef60c0e1"
      },
      "source": [
        "# VALIDATION SET\n",
        "valid_df['question_text'].apply(lambda x: len(x.split())).plot(kind='hist');\n",
        "plt.yscale('log');\n",
        "plt.title('Distribution of question text length in words')"
      ],
      "execution_count": 10,
      "outputs": [
        {
          "output_type": "execute_result",
          "data": {
            "text/plain": [
              "Text(0.5, 1.0, 'Distribution of question text length in words')"
            ]
          },
          "metadata": {
            "tags": []
          },
          "execution_count": 10
        },
        {
          "output_type": "display_data",
          "data": {
            "image/png": "[encoded data removed]",
            "text/plain": [
              "<Figure size 432x288 with 1 Axes>"
            ]
          },
          "metadata": {
            "tags": [],
            "needs_background": "light"
          }
        }
      ]
    },
    {
      "cell_type": "code",
      "metadata": {
        "colab": {
          "base_uri": "https://localhost:8080/",
          "height": 298
        },
        "id": "zK4D4acOGFTI",
        "outputId": "be1fe7db-6af1-4073-9c1d-466287b91d11"
      },
      "source": [
        "# TRAIN SET\n",
        "train_df['question_text'].apply(lambda x: len(x)).plot(kind='hist');\n",
        "plt.yscale('log');\n",
        "plt.title('Distribution of question text length in characters')"
      ],
      "execution_count": 11,
      "outputs": [
        {
          "output_type": "execute_result",
          "data": {
            "text/plain": [
              "Text(0.5, 1.0, 'Distribution of question text length in characters')"
            ]
          },
          "metadata": {
            "tags": []
          },
          "execution_count": 11
        },
        {
          "output_type": "display_data",
          "data": {
            "image/png": "[encoded data removed]",
            "text/plain": [
              "<Figure size 432x288 with 1 Axes>"
            ]
          },
          "metadata": {
            "tags": [],
            "needs_background": "light"
          }
        }
      ]
    },
    {
      "cell_type": "code",
      "metadata": {
        "colab": {
          "base_uri": "https://localhost:8080/",
          "height": 298
        },
        "id": "uqjE6McdGFDg",
        "outputId": "2fa66e42-a59d-4a6f-f89a-56c93327c119"
      },
      "source": [
        "# VALIDATION SET\n",
        "valid_df['question_text'].apply(lambda x: len(x)).plot(kind='hist');\n",
        "plt.yscale('log');\n",
        "plt.title('Distribution of question text length in characters')"
      ],
      "execution_count": 12,
      "outputs": [
        {
          "output_type": "execute_result",
          "data": {
            "text/plain": [
              "Text(0.5, 1.0, 'Distribution of question text length in characters')"
            ]
          },
          "metadata": {
            "tags": []
          },
          "execution_count": 12
        },
        {
          "output_type": "display_data",
          "data": {
            "image/png": "[encoded data removed]",
            "text/plain": [
              "<Figure size 432x288 with 1 Axes>"
            ]
          },
          "metadata": {
            "tags": [],
            "needs_background": "light"
          }
        }
      ]
    },
    {
      "cell_type": "markdown",
      "metadata": {
        "id": "Gqx5RT7zFiGe"
      },
      "source": [
        "Even the distribution of question length in words and characters is very similar, looks like a good train test split so far"
      ]
    },
    {
      "cell_type": "markdown",
      "metadata": {
        "id": "I46vYYMgG4kh"
      },
      "source": [
        "# Taming the Data"
      ]
    },
    {
      "cell_type": "code",
      "metadata": {
        "id": "qQYMGT5_qLPX",
        "colab": {
          "base_uri": "https://localhost:8080/"
        },
        "outputId": "06269af9-aae8-4d08-a7c9-e87473836654"
      },
      "source": [
        "# we want the dataset to be created and processed on the cpu \n",
        "with tf.device('/cpu:0'):\n",
        "  train_data = tf.data.Dataset.from_tensor_slices((train_df['question_text'].values, train_df['target'].values))\n",
        "  valid_data = tf.data.Dataset.from_tensor_slices((valid_df['question_text'].values, valid_df['target'].values))\n",
        "  # lets look at 3 samples from train set\n",
        "  for text,label in train_data.take(3):\n",
        "    print(text)\n",
        "    print(label)\n",
        "  "
      ],
      "execution_count": 42,
      "outputs": [
        {
          "output_type": "stream",
          "text": [
            "tf.Tensor(b'Which are the top drones for shooting a high enough quality video to be used in a small business advertisement (midrange budget ad)?', shape=(), dtype=string)\n",
            "tf.Tensor(0, shape=(), dtype=int64)\n",
            "tf.Tensor(b'What are some good books you recommend on raising a good child with morals and values?', shape=(), dtype=string)\n",
            "tf.Tensor(0, shape=(), dtype=int64)\n",
            "tf.Tensor(b'How do you do your make up for special occasions?', shape=(), dtype=string)\n",
            "tf.Tensor(0, shape=(), dtype=int64)\n"
          ],
          "name": "stdout"
        }
      ]
    },
    {
      "cell_type": "markdown",
      "metadata": {
        "id": "e2-ReN88Hvy_"
      },
      "source": [
        "## Lets BERT: Get the Pre-trained BERT Model from TensorFlow Hub"
      ]
    },
    {
      "cell_type": "markdown",
      "metadata": {
        "id": "-0anx2AQ69wt"
      },
      "source": [
        "We will be using the uncased BERT present in the tfhub, in order the prepare the text to be given to the BERT layer.\n",
        "We need to first tokenize the words, the tokenizer here is present as an model asset and will do uncasing for us as well "
      ]
    },
    {
      "cell_type": "code",
      "metadata": {
        "id": "fi141L6X7EmH"
      },
      "source": [
        "# Setting some parameters\n",
        "\n",
        "label_list = [0, 1] # Label categories\n",
        "max_seq_length = 128 # maximum length of (token) input sequences\n",
        "train_batch_size = 32"
      ],
      "execution_count": 43,
      "outputs": []
    },
    {
      "cell_type": "code",
      "metadata": {
        "id": "EMb5M86b4-BU"
      },
      "source": [
        "# Get BERT layer and tokenizer:\n",
        "# All details here: https://tfhub.dev/tensorflow/bert_en_uncased_L-12_H-768_A-12/2\n",
        "\n",
        "bert_layer = hub.KerasLayer('https://tfhub.dev/tensorflow/bert_en_uncased_L-12_H-768_A-12/2',\n",
        "                            trainable=True)\n",
        "vocab_file = bert_layer.resolved_object.vocab_file.asset_path.numpy()\n",
        "do_lower_case = bert_layer.resolved_object.do_lower_case.numpy() # checks if the bert layer we are using is uncased or not\n",
        "tokenizer = tokenization.FullTokenizer(vocab_file, do_lower_case)"
      ],
      "execution_count": 44,
      "outputs": []
    },
    {
      "cell_type": "markdown",
      "metadata": {
        "id": "-cXVyapO7Oot"
      },
      "source": [
        "### Checking out some of the training samples and their tokenized ids"
      ]
    },
    {
      "cell_type": "code",
      "metadata": {
        "id": "wEUezMK-zkkI",
        "colab": {
          "base_uri": "https://localhost:8080/"
        },
        "outputId": "5375cfde-c6e5-4fd5-d1a2-647246cd465f"
      },
      "source": [
        "input_string = \"hello world, it is a wonderful day for learning\"\n",
        "print(tokenizer.wordpiece_tokenizer.tokenize(input_string))\n",
        "print(tokenizer.convert_tokens_to_ids(tokenizer.wordpiece_tokenizer.tokenize(input_string)))"
      ],
      "execution_count": 45,
      "outputs": [
        {
          "output_type": "stream",
          "text": [
            "['hello', 'world', '##,', 'it', 'is', 'a', 'wonderful', 'day', 'for', 'learning']\n",
            "[7592, 2088, 29623, 2009, 2003, 1037, 6919, 2154, 2005, 4083]\n"
          ],
          "name": "stdout"
        }
      ]
    },
    {
      "cell_type": "markdown",
      "metadata": {
        "id": "9QinzNq6OsP1"
      },
      "source": [
        "## Lets Get That Data Ready: Tokenize and Preprocess Text for BERT"
      ]
    },
    {
      "cell_type": "markdown",
      "metadata": {
        "id": "dZCrWwCCo_82"
      },
      "source": [
        "\n",
        "Each line of the dataset is composed of the review text and its label.\n",
        "Data preprocessing consists of transforming text to BERT input features:\n",
        "input_word_ids, input_mask, segment_ids/input_type_ids\n",
        "\n",
        "- **Input Word Ids:** Output of out tokenizer, converitng each sentence into set of token ids.\n",
        "\n",
        "- **Input Masks:** Since we are padding all the sequences to 128(max sequence length) , its important that we create some sort of a mask to make sure those paddings do not interfere therefore we need a generate input mask blocking the paddings, The mask has 1 for real tokens and 0 for padding tokens. Only real\n",
        "tokens are attended to.\n",
        "\n",
        "- **Segment Ids:** For out task of text classification, Since there is only one sequence, the segment_ids/input_type_ids is basically just a vector of 0s \n",
        "\n",
        "\n",
        "\n",
        "Bert was trained on 2 tasks:\n",
        "- fill in randomly masked words from a sentence.\n",
        "- given 2 sentences which came first. \n",
        "\n"
      ]
    },
    {
      "cell_type": "code",
      "metadata": {
        "id": "m-21A5aNJM0W"
      },
      "source": [
        "# This provides a function to convert row to input features and label, \n",
        "# this uses the classifier_data_lib which is a class defined in the tensorflow model garden we installed earlier\n",
        "\n",
        "def create_feature(text, label, label_list=label_list, max_seq_length=max_seq_length, tokenizer=tokenizer):\n",
        "  \"\"\"\n",
        "  converts the datapoint into usable features for BERT using the classifier_data_lib\n",
        "\n",
        "  Parameters:\n",
        "    text: Input text string\n",
        "    lable: label associated with the text\n",
        "    label_list: (list) all possible labels\n",
        "    max_seq_length: (int) maximum sequence length set for bert\n",
        "    tokenizer: the tokenizer object instantiated by the files in model assets\n",
        "\n",
        "  Returns:\n",
        "    feature.input_ids: The token ids for the input text string\n",
        "    feature.input_masks: The padding mask generated \n",
        "    feature.segment_ids: essentially here a vector of 0s since classification\n",
        "    feature.label_id: the corresponding label id from lable_list [0, 1] here\n",
        "\n",
        "  \"\"\"\n",
        "  # since we only have 1 sentence for classification purpose, textr_b is None\n",
        "  example = classifier_data_lib.InputExample(guid = None,\n",
        "                                            text_a = text.numpy(), \n",
        "                                            text_b = None, \n",
        "                                            label = label.numpy())\n",
        "  # since only 1 example, the index=0\n",
        "  feature = classifier_data_lib.convert_single_example(0, example, label_list,\n",
        "                                    max_seq_length, tokenizer)\n",
        "  \n",
        "  return (feature.input_ids, feature.input_mask, feature.segment_ids, feature.label_id)"
      ],
      "execution_count": 46,
      "outputs": []
    },
    {
      "cell_type": "markdown",
      "metadata": {
        "id": "A_HQSsHwWCsK"
      },
      "source": [
        "You want to use [`Dataset.map`](https://www.tensorflow.org/api_docs/python/tf/data/Dataset#map) to apply this function to each element of the dataset. [`Dataset.map`](https://www.tensorflow.org/api_docs/python/tf/data/Dataset#map) runs in graph mode.\n",
        "\n",
        "- Graph tensors do not have a value.\n",
        "- In graph mode you can only use TensorFlow Ops and functions.\n",
        "\n",
        "So you can't `.map` this function directly: You need to wrap it in a [`tf.py_function`](https://www.tensorflow.org/api_docs/python/tf/py_function). The [`tf.py_function`](https://www.tensorflow.org/api_docs/python/tf/py_function) will pass regular tensors (with a value and a `.numpy()` method to access it), to the wrapped python function."
      ]
    },
    {
      "cell_type": "markdown",
      "metadata": {
        "id": "zaNlkKVfWX0Q"
      },
      "source": [
        "### Wrapping the Python Function into a TensorFlow op for Eager Execution"
      ]
    },
    {
      "cell_type": "code",
      "metadata": {
        "id": "AGACBcfCWC2O"
      },
      "source": [
        "def create_feature_map(text, label):\n",
        "  \"\"\"\n",
        "  A tensorflow function wrapper to apply the transformation on the dataset.\n",
        "  Parameters:\n",
        "    Text: the input text string.\n",
        "    label: the classification ground truth label associated with the input string\n",
        "\n",
        "  Returns:\n",
        "    A tuple of a dictionary and a corresponding label_id with it. The dictionary \n",
        "    contains the input_word_ids, input_mask, input_type_ids  \n",
        "  \"\"\"\n",
        "  input_ids, input_mask, segment_ids, label_id = tf.py_function(create_feature, inp=[text, label], \n",
        "                                Tout=[tf.int32, tf.int32, tf.int32, tf.int32])\n",
        "\n",
        "  # py_func doesn't set the shape of the returned tensors.\n",
        "  input_ids.set_shape([max_seq_length])\n",
        "  input_mask.set_shape([max_seq_length])\n",
        "  segment_ids.set_shape([max_seq_length])\n",
        "  label_id.set_shape([])\n",
        "\n",
        "  x = {\n",
        "        'input_word_ids': input_ids,\n",
        "        'input_mask': input_mask,\n",
        "        'input_type_ids': segment_ids\n",
        "    }\n",
        "  return (x, label_id)\n",
        "\n",
        "  # the final datapoint passed to the model is of the format a dictionary as x and labels.\n",
        "  # the dictionary have keys which should obv match"
      ],
      "execution_count": 47,
      "outputs": []
    },
    {
      "cell_type": "markdown",
      "metadata": {
        "id": "dhdO6MjTbtn1"
      },
      "source": [
        "## Let the Data Flow: Creating the final input pipeline using `tf.data`"
      ]
    },
    {
      "cell_type": "code",
      "metadata": {
        "id": "LHRdiO3dnPNr"
      },
      "source": [
        "# Now we will simply apply the transformation to our train and test datasets\n",
        "with tf.device('/cpu:0'):\n",
        "  # train\n",
        "  train_data = (train_data.map(create_feature_map,\n",
        "                              num_parallel_calls=tf.data.experimental.AUTOTUNE)\n",
        "\n",
        "                          .shuffle(1000)\n",
        "                          .batch(32, drop_remainder=True)\n",
        "                          .prefetch(tf.data.experimental.AUTOTUNE))\n",
        "\n",
        "  # valid\n",
        "  valid_data = (valid_data.map(create_feature_map, \n",
        "                               num_parallel_calls=tf.data.experimental.AUTOTUNE)\n",
        "                          .batch(32, drop_remainder=True)\n",
        "                          .prefetch(tf.data.experimental.AUTOTUNE)) "
      ],
      "execution_count": 48,
      "outputs": []
    },
    {
      "cell_type": "markdown",
      "metadata": {
        "id": "KLUWnfx-YDi2"
      },
      "source": [
        "The resulting `tf.data.Datasets` return `(features, labels)` pairs, as expected by [`keras.Model.fit`](https://www.tensorflow.org/api_docs/python/tf/keras/Model#fit):"
      ]
    },
    {
      "cell_type": "code",
      "metadata": {
        "id": "B0Z2cy9GHQ8x",
        "colab": {
          "base_uri": "https://localhost:8080/"
        },
        "outputId": "236d77a8-48b5-4377-b613-6d57f874578e"
      },
      "source": [
        "# train data spec, we can finally see the input datapoint is now converted to the BERT specific input tensor\n",
        "train_data.element_spec"
      ],
      "execution_count": 49,
      "outputs": [
        {
          "output_type": "execute_result",
          "data": {
            "text/plain": [
              "({'input_mask': TensorSpec(shape=(32, 128), dtype=tf.int32, name=None),\n",
              "  'input_type_ids': TensorSpec(shape=(32, 128), dtype=tf.int32, name=None),\n",
              "  'input_word_ids': TensorSpec(shape=(32, 128), dtype=tf.int32, name=None)},\n",
              " TensorSpec(shape=(32,), dtype=tf.int32, name=None))"
            ]
          },
          "metadata": {
            "tags": []
          },
          "execution_count": 49
        }
      ]
    },
    {
      "cell_type": "code",
      "metadata": {
        "id": "DGAH-ycYOmao",
        "colab": {
          "base_uri": "https://localhost:8080/"
        },
        "outputId": "0c5c836e-f92c-47d4-d62e-10abf4d02ed9"
      },
      "source": [
        "# valid data spec\n",
        "valid_data.element_spec"
      ],
      "execution_count": 50,
      "outputs": [
        {
          "output_type": "execute_result",
          "data": {
            "text/plain": [
              "({'input_mask': TensorSpec(shape=(32, 128), dtype=tf.int32, name=None),\n",
              "  'input_type_ids': TensorSpec(shape=(32, 128), dtype=tf.int32, name=None),\n",
              "  'input_word_ids': TensorSpec(shape=(32, 128), dtype=tf.int32, name=None)},\n",
              " TensorSpec(shape=(32,), dtype=tf.int32, name=None))"
            ]
          },
          "metadata": {
            "tags": []
          },
          "execution_count": 50
        }
      ]
    },
    {
      "cell_type": "markdown",
      "metadata": {
        "id": "GZxe-7yhPyQe"
      },
      "source": [
        "# Lets Model Our Way to Glory!!!"
      ]
    },
    {
      "cell_type": "markdown",
      "metadata": {
        "id": "fB6vR1KHIWrv"
      },
      "source": [
        "## Create The Model"
      ]
    },
    {
      "cell_type": "markdown",
      "metadata": {
        "id": "e33vaIFW1yil"
      },
      "source": [
        "There are two outputs from the BERT Layer: \n",
        "- A pooled_output of shape [batch_size, 768] with representations for the entire input sequences  \n",
        "- A sequence_output of shape [batch_size, max_seq_length, 768] with representations for each input token (in context).\n",
        "\n",
        "For the classificaiton we are only concerned with the pooled_output"
      ]
    },
    {
      "cell_type": "code",
      "metadata": {
        "id": "G9il4gtlADcp"
      },
      "source": [
        "# Building the model, input ---> BERT Layer ---> Classification Head\n",
        "def create_model():\n",
        "  input_word_ids = tf.keras.layers.Input(shape=(max_seq_length,), dtype=tf.int32,\n",
        "                                       name=\"input_word_ids\")\n",
        "  input_mask = tf.keras.layers.Input(shape=(max_seq_length,), dtype=tf.int32,\n",
        "                                   name=\"input_mask\")\n",
        "  input_type_ids = tf.keras.layers.Input(shape=(max_seq_length,), dtype=tf.int32,\n",
        "                                    name=\"input_type_ids\")\n",
        "  \n",
        "\n",
        "  pooled_output, sequence_output = bert_layer([input_word_ids, input_mask, input_type_ids])\n",
        "  # for classification we only care about the pooled-output\n",
        "  # at this point we can play around with the classification head based on the downstream tasks and its complexity\n",
        "  \n",
        "  drop = tf.keras.layers.Dropout(0.5)(pooled_output)\n",
        "  output = tf.keras.layers.Dense(1, activation='sigmoid', name='output')(drop)\n",
        "\n",
        "  # inputs coming from the function\n",
        "  model = tf.keras.Model(\n",
        "      inputs={\n",
        "        'input_word_ids': input_word_ids,\n",
        "        'input_mask': input_mask,\n",
        "        'input_type_ids': input_type_ids}, \n",
        "      outputs=output)\n",
        "  \n",
        "  return model\n",
        "  "
      ],
      "execution_count": 51,
      "outputs": []
    },
    {
      "cell_type": "markdown",
      "metadata": {
        "id": "S6maM-vr7YaJ"
      },
      "source": [
        "## Let Us Train !"
      ]
    },
    {
      "cell_type": "code",
      "metadata": {
        "id": "ptCtiiONsBgo"
      },
      "source": [
        "# Calling the create model function to get teh keras based functional model\n",
        "model = create_model()"
      ],
      "execution_count": 52,
      "outputs": []
    },
    {
      "cell_type": "code",
      "metadata": {
        "id": "6GJaFnkbMtPL",
        "colab": {
          "base_uri": "https://localhost:8080/"
        },
        "outputId": "293a795e-096b-4fcf-a3d3-73e013f79f12"
      },
      "source": [
        "# using adam with a lr of 2*(10^-5), loss as binary cross entropy as only 2 classes and similarly binary accuracy\n",
        "model.compile(optimizer=tf.keras.optimizers.Adam(learning_rate=2e-5),\n",
        "              loss=tf.keras.losses.BinaryCrossentropy(),\n",
        "              metrics=[tf.keras.metrics.BinaryAccuracy()])\n",
        "model.summary()"
      ],
      "execution_count": 53,
      "outputs": [
        {
          "output_type": "stream",
          "text": [
            "Model: \"model_1\"\n",
            "__________________________________________________________________________________________________\n",
            "Layer (type)                    Output Shape         Param #     Connected to                     \n",
            "==================================================================================================\n",
            "input_word_ids (InputLayer)     [(None, 128)]        0                                            \n",
            "__________________________________________________________________________________________________\n",
            "input_mask (InputLayer)         [(None, 128)]        0                                            \n",
            "__________________________________________________________________________________________________\n",
            "input_type_ids (InputLayer)     [(None, 128)]        0                                            \n",
            "__________________________________________________________________________________________________\n",
            "keras_layer_1 (KerasLayer)      [(None, 768), (None, 109482241   input_word_ids[0][0]             \n",
            "                                                                 input_mask[0][0]                 \n",
            "                                                                 input_type_ids[0][0]             \n",
            "__________________________________________________________________________________________________\n",
            "dropout_1 (Dropout)             (None, 768)          0           keras_layer_1[0][0]              \n",
            "__________________________________________________________________________________________________\n",
            "output (Dense)                  (None, 1)            769         dropout_1[0][0]                  \n",
            "==================================================================================================\n",
            "Total params: 109,483,010\n",
            "Trainable params: 109,483,009\n",
            "Non-trainable params: 1\n",
            "__________________________________________________________________________________________________\n"
          ],
          "name": "stdout"
        }
      ]
    },
    {
      "cell_type": "markdown",
      "metadata": {
        "id": "fhhVabKn23LY"
      },
      "source": [
        "One drawback of the tf hub is that we import the entire module as a layer in keras as a result of which we dont see the parameters and layers in the model summary."
      ]
    },
    {
      "cell_type": "code",
      "metadata": {
        "colab": {
          "base_uri": "https://localhost:8080/",
          "height": 338
        },
        "id": "WDwqsmSV4l4N",
        "outputId": "414388f1-9f22-49fd-fb63-8df025a0ec4a"
      },
      "source": [
        "tf.keras.utils.plot_model(model=model, show_shapes=True, dpi=76, )"
      ],
      "execution_count": 54,
      "outputs": [
        {
          "output_type": "execute_result",
          "data": {
            "image/png": "[encoded data removed]",
            "text/plain": [
              "<IPython.core.display.Image object>"
            ]
          },
          "metadata": {
            "tags": []
          },
          "execution_count": 54
        }
      ]
    },
    {
      "cell_type": "markdown",
      "metadata": {
        "id": "82ye_lKZ3OA_"
      },
      "source": [
        "The official tfhub page states that\n",
        "\"All parameters in the module are trainable, and fine-tuning all parameters is the recommended practice.\" Therefore we will go ahead and train the entire model without freezing anything"
      ]
    },
    {
      "cell_type": "code",
      "metadata": {
        "id": "OcREcgPUHr9O",
        "colab": {
          "base_uri": "https://localhost:8080/"
        },
        "outputId": "c123d1a0-3c0c-4465-ce15-bf1e7b3c82c4"
      },
      "source": [
        "# Train model\n",
        "# setting low epochs as It starts to overfit with this limited data, please feel free to change\n",
        "epochs = 5\n",
        "history = model.fit(train_data,\n",
        "                    validation_data=valid_data,\n",
        "                    epochs=epochs,\n",
        "                    verbose=1)"
      ],
      "execution_count": 55,
      "outputs": [
        {
          "output_type": "stream",
          "text": [
            "Epoch 1/5\n",
            "2040/2040 [==============================] - 1703s 829ms/step - loss: 0.1271 - binary_accuracy: 0.9510 - val_loss: 0.1031 - val_binary_accuracy: 0.9594\n",
            "Epoch 2/5\n",
            "2040/2040 [==============================] - 1717s 841ms/step - loss: 0.0807 - binary_accuracy: 0.9672 - val_loss: 0.1306 - val_binary_accuracy: 0.9548\n",
            "Epoch 3/5\n",
            "2040/2040 [==============================] - 1718s 842ms/step - loss: 0.0433 - binary_accuracy: 0.9843 - val_loss: 0.1576 - val_binary_accuracy: 0.9556\n",
            "Epoch 4/5\n",
            "2040/2040 [==============================] - 1693s 829ms/step - loss: 0.0235 - binary_accuracy: 0.9920 - val_loss: 0.2412 - val_binary_accuracy: 0.9535\n",
            "Epoch 5/5\n",
            "2040/2040 [==============================] - 1718s 842ms/step - loss: 0.0151 - binary_accuracy: 0.9948 - val_loss: 0.2421 - val_binary_accuracy: 0.9550\n"
          ],
          "name": "stdout"
        }
      ]
    },
    {
      "cell_type": "markdown",
      "metadata": {
        "id": "Hnb8cCI4KQLe"
      },
      "source": [
        "### Lets Look at some Graphs"
      ]
    },
    {
      "cell_type": "markdown",
      "metadata": {
        "id": "WQWimHhjKU5H"
      },
      "source": [
        "These Graphs will mainly be useful when we are training for more epochs and more data"
      ]
    },
    {
      "cell_type": "code",
      "metadata": {
        "id": "IttJTcQnI5aL"
      },
      "source": [
        "\n",
        "def create_graphs(history):\n",
        "    train_accuracy = history.history['binary_accuracy']\n",
        "    val_accuracy = history.history['val_binary_accuracy'],\n",
        "    train_losses = history.history['loss'],\n",
        "    val_losses = history.history['val_loss']\n",
        "    fig1 = plt.figure()\n",
        "    plt.plot(train_accuracy, 'r', linewidth=3.0, marker='o')\n",
        "    plt.plot(val_accuracy, 'b', linewidth=3.0, marker='o')\n",
        "    plt.legend(['Training Accuracy', 'Validation Accuracy'], fontsize=18)\n",
        "    plt.xlabel('Epochs ', fontsize=16)\n",
        "    plt.ylabel('Accuracy', fontsize=16)\n",
        "    plt.title('Accuracy Curves', fontsize=16)\n",
        "    plt.show()\n",
        "\n",
        "    fig2 = plt.figure()\n",
        "    plt.plot(train_losses, 'r', linewidth=3.0, marker='o')\n",
        "    plt.plot(val_losses, 'b', linewidth=3.0, marker='o')\n",
        "    plt.legend(['Training loss', 'Validation Loss'], fontsize=18)\n",
        "    plt.xlabel('Epochs ', fontsize=16)\n",
        "    plt.ylabel('Loss', fontsize=16)\n",
        "    plt.title('Loss Curves', fontsize=16)\n",
        "    plt.show()"
      ],
      "execution_count": 56,
      "outputs": []
    },
    {
      "cell_type": "code",
      "metadata": {
        "colab": {
          "base_uri": "https://localhost:8080/",
          "height": 587
        },
        "id": "KXmTwmQlJ_y4",
        "outputId": "fa20263d-4059-4312-9e32-29ae00e43e5c"
      },
      "source": [
        "create_graphs(history)"
      ],
      "execution_count": 57,
      "outputs": [
        {
          "output_type": "display_data",
          "data": {
            "image/png": "[encoded data removed]",
            "text/plain": [
              "<Figure size 432x288 with 1 Axes>"
            ]
          },
          "metadata": {
            "tags": [],
            "needs_background": "light"
          }
        },
        {
          "output_type": "display_data",
          "data": {
            "image/png": "[encoded data removed]",
            "text/plain": [
              "<Figure size 432x288 with 1 Axes>"
            ]
          },
          "metadata": {
            "tags": [],
            "needs_background": "light"
          }
        }
      ]
    },
    {
      "cell_type": "markdown",
      "metadata": {
        "id": "ilCgWod4o_dF"
      },
      "source": [
        "Hopefully This was useful for you and by now you have a small kickstart on training and utilizing BERT for a variety of downstream tasks like classification, Named Entity Recognition, Sentence filling and many more.\n",
        "\n",
        "You can check out and get the entire code in a form of notebook and also run it on colab from this [Github Repo](https://github.com/au1206/Fine_Tuning_BERT)\n",
        "\n",
        "If this was helpful consider sharing it with more people so thay can also learn about it...\n",
        "\n",
        "Coming up Next:\n",
        "- BERT Annotated Paper\n",
        "- Write up on Transformers and its workings "
      ]
    }
  ]
}